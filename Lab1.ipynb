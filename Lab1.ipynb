{
 "cells": [
  {
   "attachments": {},
   "cell_type": "markdown",
   "metadata": {
    "id": "TBEBjjkfFt9n"
   },
   "source": [
    "# Лабораторная работа №1\n",
    "## Повторные независимые испытания. Формула Бернулли. Теоремы Лапласа\n",
    "## Вариант 6"
   ]
  },
  {
   "attachments": {},
   "cell_type": "markdown",
   "metadata": {
    "id": "0GVMqudiFt9p"
   },
   "source": [
    "**Задание** Ознакомиться с прилагаемым теоретическим материалом, выбрать список заданий из таблицы, решить выбранные задания с использованием ЯП Python, оформляя ход решения в этом файле."
   ]
  },
  {
   "attachments": {},
   "cell_type": "markdown",
   "metadata": {},
   "source": [
    "**Результаты выполнения задания:**\n",
    "\n",
    "Здесь описана пользовательская функция, которая принимает параметры из условия задачи: p - искомая вероятность, n - общее количество повторов, k - искомое количество повторов"
   ]
  },
  {
   "cell_type": "code",
   "execution_count": 3,
   "metadata": {
    "id": "Qn91AtDMFt9q",
    "ExecuteTime": {
     "end_time": "2024-02-10T11:05:31.364595400Z",
     "start_time": "2024-02-10T11:05:31.331328200Z"
    }
   },
   "outputs": [],
   "source": [
    "from math import factorial, sqrt, pi as PI, e as E, exp\n",
    "\n",
    "# заранее задаим функции для решения задач\n",
    "\n",
    "def bernuli(n: int, k: [], p: float) -> float:\n",
    "    result: float = 0\n",
    "    C: float\n",
    "    for el in k:\n",
    "        C = factorial(n) / (factorial(el) * factorial(n - el))\n",
    "        result += C * (p ** el) * ((1 - p) ** (n - el))\n",
    "    return result\n",
    "\n",
    "def laplasLocal(n: int, k: int, p: float) -> float:\n",
    "    q = 1 - p\n",
    "    x = (k - n * p) / (sqrt(n * p * q))\n",
    "    fy = (1 / sqrt(2 * PI)) * (E ** -x**2 / 2)\n",
    "    result = 1 / sqrt(n * p * q) * fy\n",
    "    return result\n",
    "\n",
    "def laplasIntegrate(n: int, k: [int, int], p: float) -> float:\n",
    "    probability = 0\n",
    "    standardDeviation = (n * p * (1 - p)) ** 0.5\n",
    "    integrationFunction = lambda x: 1 / (sqrt(2 * PI * standardDeviation**2))\\\n",
    "        * exp((-(x - n * p)**2) / (2 * standardDeviation**2))\n",
    "    for i in range(k[0], k[1] + 1):\n",
    "        probability += integrationFunction(i)\n",
    "    \n",
    "    return probability\n",
    "\n",
    "\n",
    "\n",
    "\n",
    "\n"
   ]
  },
  {
   "cell_type": "code",
   "execution_count": 4,
   "metadata": {
    "ExecuteTime": {
     "end_time": "2024-02-10T11:05:31.407113800Z",
     "start_time": "2024-02-10T11:05:31.347230Z"
    }
   },
   "outputs": [
    {
     "name": "stdout",
     "output_type": "stream",
     "text": [
      "Взойдут не менее 4 - значит 4 или 5 или 6 или 7\n",
      "№6: 0.987896828125\n",
      "\n",
      "Хотя бы один патрон останется = 1 - не попадем совсем\n",
      "№8: 0.33991789135479245\n",
      "\n",
      "Хотя бы один потребует ремонта = 1 - все не потребуют ремонта\n",
      "№12: 0.2625758731050719\n",
      "\n",
      "из 6 дней 2 - дождливые с вероятностью 2/3\n",
      "№14: 0.08230452674897122\n",
      "\n",
      "Наиболее вероятным будет:\n",
      "№15: 0.4782969000000001\n",
      "\n",
      "Наивероятнейшее число деталей:\n",
      "№17: 18\n",
      "\n",
      "Наивероятнейшее число опозданий:\n",
      "№18: 35\n",
      "\n",
      "Числа велики и в виде диапазона значений - используем интегральную теорему лапласа\n",
      "№22: 0.5043701937223684\n",
      "\n",
      "№24(а): 0.9999927782979446\n",
      "№24(б): 0.016326565931766387\n",
      "№26: 0.9250353355133853\n"
     ]
    }
   ],
   "source": [
    "\n",
    "print(\"Взойдут не менее 4 - значит 4 или 5 или 6 или 7\")\n",
    "print(f\"№6: {bernuli(7, [4, 5, 6, 7], 0.85)}\\n\")\n",
    "\n",
    "print(\"Хотя бы один патрон останется = 1 - не попадем совсем\")\n",
    "print(f\"№8: {1 - bernuli(7, [1, 2, 3, 4, 5, 6], 1/7)}\\n\")\n",
    "\n",
    "print(\"Хотя бы один потребует ремонта = 1 - все не потребуют ремонта\")\n",
    "print(f\"№12: {1 - bernuli(10, [10], 1 - 0.03)}\\n\")\n",
    "\n",
    "print(\"из 6 дней 2 - дождливые с вероятностью 2/3\")\n",
    "print(f\"№14: {bernuli(25 - 20 + 1, [2], 20/30)}\\n\")\n",
    "\n",
    "print(\"Наиболее вероятным будет:\")\n",
    "print(f\"№15: {max([bernuli(7, [i], 0.9) for i in range(1, 8)])}\\n\")\n",
    "\n",
    "\n",
    "print(\"Наивероятнейшее число деталей:\")\n",
    "numberOfMaxProbability = [bernuli(n=42, k=[i], p=0.43) for i in range(1, 42 + 1)].index(max([bernuli(n=42, k=[i], p=0.43) for i in range(1, 42 + 1)])) + 1\n",
    "print(f\"№17: {numberOfMaxProbability}\\n\")\n",
    "\n",
    "print(\"Наивероятнейшее число опозданий:\")\n",
    "listOfProbabilities = [bernuli(n=236, k=[i], p=0.15) for i in range(1, 236 + 1)]\n",
    "maxProbability = max(listOfProbabilities)\n",
    "numberOfMaxProbability = listOfProbabilities.index(maxProbability) + 1\n",
    "print(f\"№18: {numberOfMaxProbability}\\n\")\n",
    "\n",
    "print(\"Числа велики и в виде диапазона значений - используем интегральную теорему лапласа\")\n",
    "print(f\"№22: {laplasIntegrate(n=15_000, k=[2_000, 2_500], p=1/6)}\\n\")\n",
    "\n",
    "print(f\"№24(а): {bernuli(n=200, k=[i for i in range(160, 200 + 1)], p=0.9)}\")\n",
    "print(f\"№24(б): {bernuli(n=200, k=[i for i in range(0, 170 + 1)], p=0.9)}\")\n",
    "print(f\"№26: {laplasIntegrate(n=400, k=[348, 368 + 1], p=0.9)}\\n\")"
   ]
  }
 ],
 "metadata": {
  "colab": {
   "provenance": []
  },
  "kernelspec": {
   "display_name": "Python 3",
   "language": "python",
   "name": "python3"
  },
  "language_info": {
   "codemirror_mode": {
    "name": "ipython",
    "version": 3
   },
   "file_extension": ".py",
   "mimetype": "text/x-python",
   "name": "python",
   "nbconvert_exporter": "python",
   "pygments_lexer": "ipython3",
   "version": "3.11.1"
  },
  "orig_nbformat": 4,
  "vscode": {
   "interpreter": {
    "hash": "a5e5bb8c7f59d999df07168cdddfd96f8fceb1d4deaee65f2787e1aa74655cd7"
   }
  }
 },
 "nbformat": 4,
 "nbformat_minor": 0
}
