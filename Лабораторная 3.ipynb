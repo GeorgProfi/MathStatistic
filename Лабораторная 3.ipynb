{
 "cells": [
  {
   "attachments": {},
   "cell_type": "markdown",
   "metadata": {},
   "source": [
    "# Лабораторная работа №3\n",
    "## Числовые характеристики выборки"
   ]
  },
  {
   "cell_type": "markdown",
   "source": [],
   "metadata": {
    "collapsed": false
   }
  },
  {
   "attachments": {},
   "cell_type": "markdown",
   "metadata": {},
   "source": [
    "**Задание**\n",
    "1. Изучить теоретический материал (*см. вложенный pdf файл, стр 6 - 7*)\n",
    "2. Найти в открытых источниках, или выдумать выборку непрерывных данных. Можно использовать данные из приложенного csv файла. (Описание данных: https://www.kaggle.com/datasets/spscientist/students-performance-in-exams?resource=download)\n",
    "3. Реализовать скрипт в Python для загрузки данных (соответствующие команды найти самостоятельно). Вариант использования команд из библиотеки `numpy` для загрузки данных из примера см. ниже.\n",
    "4. Посчитать и вывести основные числовые характеристики выборки (среднее, дисперсию, стандартное отклонение, медиану). \n",
    "5. Вывести гистограмму исследуемых данных. Сделать предположение о законе распределения исследуемых данных."
   ]
  },
  {
   "cell_type": "code",
   "execution_count": 19,
   "metadata": {
    "ExecuteTime": {
     "end_time": "2024-02-14T12:32:23.998567400Z",
     "start_time": "2024-02-14T12:32:23.956987500Z"
    }
   },
   "outputs": [
    {
     "name": "stdout",
     "output_type": "stream",
     "text": [
      "['female', 'group B', \"bachelor's degree\", 'standard', 'none', '72', '72', '74']\n",
      "['female', 'group C', 'some college', 'standard', 'completed', '69', '90', '88']\n",
      "['female', 'group B', \"master's degree\", 'standard', 'none', '90', '95', '93']\n"
     ]
    }
   ],
   "source": [
    "import csv\n",
    "with open('StudentsPerformance.csv', 'r', newline='') as csvfile:\n",
    "    spamreader = csv.reader(csvfile,  quotechar='|')\n",
    "    data = [el for el in spamreader]\n",
    "    [print(i) for i in data[0:3]]"
   ]
  },
  {
   "cell_type": "code",
   "outputs": [
    {
     "name": "stdout",
     "output_type": "stream",
     "text": [
      "средний балл по математике  66.089\n",
      "средний балл за чтение  69.169\n",
      "средний балл за письмо  68.054\n"
     ]
    }
   ],
   "source": [
    "def mean(xs): \n",
    "    '''Среднее значение числового ряда'''\n",
    "    return sum(xs) / len(xs) \n",
    "\n",
    "print(f'средний балл по математике  {mean([int(i[5]) for i in data])}')\n",
    "\n",
    "print(f'средний балл за чтение  {mean([int(i[6]) for i in data])}')\n",
    "\n",
    "print(f'средний балл за письмо  {mean([int(i[7]) for i in data])}')"
   ],
   "metadata": {
    "collapsed": false,
    "ExecuteTime": {
     "end_time": "2024-02-14T11:58:57.265007800Z",
     "start_time": "2024-02-14T11:58:57.237639700Z"
    }
   },
   "execution_count": 14
  },
  {
   "cell_type": "code",
   "outputs": [
    {
     "name": "stdout",
     "output_type": "stream",
     "text": [
      "средний балл по математике  66.0\n",
      "средний балл за чтение  70.0\n",
      "средний балл за письмо  69.0\n"
     ]
    }
   ],
   "source": [
    "def median(xs):\n",
    "    '''Медиана числового ряда'''\n",
    "    n = len(xs)\n",
    "    mid = n // 2\n",
    "    if n % 2 == 1:\n",
    "        return sorted(xs)[mid]\n",
    "    else:\n",
    "        return mean( sorted(xs)[mid-1:][:2] )\n",
    "    \n",
    "print(f'медианный балл по математике  {median([int(i[5]) for i in data])}')\n",
    "\n",
    "print(f'медианный балл за чтение  {median([int(i[6]) for i in data])}')\n",
    "\n",
    "print(f'медианный балл за письмо  {median([int(i[7]) for i in data])}')"
   ],
   "metadata": {
    "collapsed": false,
    "ExecuteTime": {
     "end_time": "2024-02-14T11:59:33.704944400Z",
     "start_time": "2024-02-14T11:59:33.695632300Z"
    }
   },
   "execution_count": 15
  },
  {
   "cell_type": "code",
   "outputs": [
    {
     "name": "stdout",
     "output_type": "stream",
     "text": [
      "Дисперсия для баллов по математике  229.68907900000048\n",
      "Дисперсия для баллов за чтение  212.9524390000001\n",
      "Дисперсия для баллов  за письмо  230.6770839999997\n"
     ]
    }
   ],
   "source": [
    "def variance(xs):\n",
    "    '''Дисперсия числового ряда,\n",
    "       несмещенная дисперсия при n <= 30'''\n",
    "    mu = mean(xs)\n",
    "    n = len(xs)\n",
    "    n = n-1 if n in range(1, 30) else n  \n",
    "    square_deviation = lambda x : (x - mu) ** 2 \n",
    "    return sum( map(square_deviation, xs) ) / n\n",
    "\n",
    "print(f'Дисперсия для баллов по математике  {variance([int(i[5]) for i in data])}')\n",
    "\n",
    "print(f'Дисперсия для баллов за чтение  {variance([int(i[6]) for i in data])}')\n",
    "\n",
    "print(f'Дисперсия для баллов  за письмо  {variance([int(i[7]) for i in data])}')"
   ],
   "metadata": {
    "collapsed": false,
    "ExecuteTime": {
     "end_time": "2024-02-14T12:34:56.401122Z",
     "start_time": "2024-02-14T12:34:56.376538100Z"
    }
   },
   "execution_count": 21
  },
  {
   "cell_type": "code",
   "outputs": [
    {
     "name": "stdout",
     "output_type": "stream",
     "text": [
      "Стандартное отклонение для баллов по математике  15.155496659628165\n",
      "Стандартное отклонение для баллов за чтение  14.59289001534652\n",
      "Стандартное отклонение для баллов  за письмо  15.188057281956757\n"
     ]
    }
   ],
   "source": [
    "import math\n",
    "def standard_deviation(xs):\n",
    "    '''Стандартное отклонение числового ряда'''\n",
    "    return math.sqrt( variance(xs) )\n",
    "\n",
    "print(f'Стандартное отклонение для баллов по математике  {standard_deviation([int(i[5]) for i in data])}')\n",
    "\n",
    "print(f'Стандартное отклонение для баллов за чтение  {standard_deviation([int(i[6]) for i in data])}')\n",
    "\n",
    "print(f'Стандартное отклонение для баллов  за письмо  {standard_deviation([int(i[7]) for i in data])}')"
   ],
   "metadata": {
    "collapsed": false,
    "ExecuteTime": {
     "end_time": "2024-02-14T12:40:10.391861400Z",
     "start_time": "2024-02-14T12:40:10.370362100Z"
    }
   },
   "execution_count": 22
  },
  {
   "cell_type": "code",
   "outputs": [],
   "source": [
    "import matplotlib.pyplot as plt\n",
    "\n",
    "fig, axs"
   ],
   "metadata": {
    "collapsed": false
   }
  }
 ],
 "metadata": {
  "kernelspec": {
   "display_name": "Python 3",
   "language": "python",
   "name": "python3"
  },
  "language_info": {
   "codemirror_mode": {
    "name": "ipython",
    "version": 3
   },
   "file_extension": ".py",
   "mimetype": "text/x-python",
   "name": "python",
   "nbconvert_exporter": "python",
   "pygments_lexer": "ipython3",
   "version": "3.10.9 (tags/v3.10.9:1dd9be6, Dec  6 2022, 20:01:21) [MSC v.1934 64 bit (AMD64)]"
  },
  "orig_nbformat": 4,
  "vscode": {
   "interpreter": {
    "hash": "a5e5bb8c7f59d999df07168cdddfd96f8fceb1d4deaee65f2787e1aa74655cd7"
   }
  }
 },
 "nbformat": 4,
 "nbformat_minor": 2
}
