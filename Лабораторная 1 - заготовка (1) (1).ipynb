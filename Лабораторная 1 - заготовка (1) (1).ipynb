{
 "cells": [
  {
   "attachments": {},
   "cell_type": "markdown",
   "metadata": {
    "id": "TBEBjjkfFt9n"
   },
   "source": [
    "# Лабораторная работа №1\n",
    "## Повторные независимые испытания. Формула Бернулли. Теоремы Лапласа\n",
    "## Вариант 1"
   ]
  },
  {
   "attachments": {},
   "cell_type": "markdown",
   "metadata": {
    "id": "0GVMqudiFt9p"
   },
   "source": [
    "**Задание** Ознакомиться с прилагаемым теоретическим материалом, выбрать список заданий из таблицы, решить выбранные задания с использованием ЯП Python, оформляя ход решения в этом файле."
   ]
  },
  {
   "attachments": {},
   "cell_type": "markdown",
   "metadata": {},
   "source": [
    "**Пример решения для задачи № 1а**\n",
    "\n",
    "Здесь описана пользовательская функция, которая принимает параметры из условия задачи: p - искомая вероятность, n - общее количество повторов, k - искомое количество повторов"
   ]
  },
  {
   "cell_type": "code",
   "execution_count": 7,
   "metadata": {
    "id": "Qn91AtDMFt9q",
    "ExecuteTime": {
     "end_time": "2024-01-13T10:00:57.507841900Z",
     "start_time": "2024-01-13T10:00:57.488348300Z"
    }
   },
   "outputs": [],
   "source": [
    "from math import factorial \n",
    "def bern(p,k,n):\n",
    "    q = 1 - p\n",
    "    c = factorial(n)/(factorial(k)*factorial(n-k))\n",
    "    return c*(p**k)*(q**(n-k))"
   ]
  },
  {
   "cell_type": "code",
   "outputs": [],
   "source": [
    "bern(0.2, 0, 6)"
   ],
   "metadata": {
    "collapsed": false
   }
  },
  {
   "cell_type": "markdown",
   "source": [
    "**Решение задачи №1б**"
   ],
   "metadata": {
    "collapsed": false
   }
  },
  {
   "cell_type": "code",
   "outputs": [
    {
     "data": {
      "text/plain": "0.08192000000000003"
     },
     "execution_count": 8,
     "metadata": {},
     "output_type": "execute_result"
    }
   ],
   "source": [
    "bern(0.2, 3, 6)"
   ],
   "metadata": {
    "collapsed": false,
    "ExecuteTime": {
     "end_time": "2024-01-13T10:01:02.687767600Z",
     "start_time": "2024-01-13T10:01:02.615359800Z"
    }
   },
   "execution_count": 8
  },
  {
   "cell_type": "code",
   "outputs": [],
   "source": [],
   "metadata": {
    "collapsed": false
   }
  },
  {
   "cell_type": "markdown",
   "source": [
    "Решение задачи №2б\n",
    "\n",
    "\n",
    "**Решение задачи № 5**\n",
    "0.32220047360000015"
   ],
   "metadata": {
    "collapsed": false
   }
  },
  {
   "cell_type": "code",
   "outputs": [],
   "source": [
    "def calculate_combinations(n, k):\n",
    "    \"\"\"функция вычисления сочетаний\"\"\"\n",
    "    result = 1\n",
    "    for i in range(1, k + 1):\n",
    "        result *= (n - i + 1) / i\n",
    "    return result\n",
    "\n",
    "def probability_of_exceeding(n, p, k):\n",
    "    \"\"\"\n",
    "    :param n: всего машин  \n",
    "    :param p: шанс что машина будет с перерасходом\n",
    "    :param k: больше скольки машин должны быть с перерасходом\n",
    "    :return: \n",
    "    \"\"\"\n",
    "    q = 1 - p  # Вероятность отсутствия перерасхода горючего\n",
    "    probability = 0\n",
    "    for i in range(k, n+1):\n",
    "        probability += calculate_combinations(n, i) * (p**i) * (q**(n-i))\n",
    "    return probability\n",
    "\n"
   ],
   "metadata": {
    "collapsed": false,
    "ExecuteTime": {
     "end_time": "2024-01-13T09:32:11.966417300Z",
     "start_time": "2024-01-13T09:32:11.950538300Z"
    }
   },
   "execution_count": 4
  },
  {
   "cell_type": "code",
   "outputs": [
    {
     "name": "stdout",
     "output_type": "stream",
     "text": [
      "0.32220047360000015\n"
     ]
    }
   ],
   "source": [
    "print(probability_of_exceeding(10, 0.2, 3))"
   ],
   "metadata": {
    "collapsed": false,
    "ExecuteTime": {
     "end_time": "2024-01-13T09:37:26.880436Z",
     "start_time": "2024-01-13T09:37:26.857759400Z"
    }
   },
   "execution_count": 5
  }
 ],
 "metadata": {
  "colab": {
   "provenance": []
  },
  "kernelspec": {
   "display_name": "Python 3",
   "language": "python",
   "name": "python3"
  },
  "language_info": {
   "codemirror_mode": {
    "name": "ipython",
    "version": 3
   },
   "file_extension": ".py",
   "mimetype": "text/x-python",
   "name": "python",
   "nbconvert_exporter": "python",
   "pygments_lexer": "ipython3",
   "version": "3.10.9"
  },
  "orig_nbformat": 4,
  "vscode": {
   "interpreter": {
    "hash": "a5e5bb8c7f59d999df07168cdddfd96f8fceb1d4deaee65f2787e1aa74655cd7"
   }
  }
 },
 "nbformat": 4,
 "nbformat_minor": 0
}
